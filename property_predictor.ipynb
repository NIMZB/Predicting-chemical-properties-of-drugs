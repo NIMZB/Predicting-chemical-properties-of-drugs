{
  "nbformat": 4,
  "nbformat_minor": 0,
  "metadata": {
    "colab": {
      "name": "property predictor.ipynb",
      "provenance": [],
      "collapsed_sections": [],
      "include_colab_link": true
    },
    "kernelspec": {
      "name": "python3",
      "display_name": "Python 3"
    }
  },
  "cells": [
    {
      "cell_type": "markdown",
      "metadata": {
        "id": "view-in-github",
        "colab_type": "text"
      },
      "source": [
        "<a href=\"https://colab.research.google.com/github/NIMZB/Predicting-chemical-properties-of-drugs/blob/master/property_predictor.ipynb\" target=\"_parent\"><img src=\"https://colab.research.google.com/assets/colab-badge.svg\" alt=\"Open In Colab\"/></a>"
      ]
    },
    {
      "cell_type": "code",
      "metadata": {
        "id": "6qj9nsAZGq5W",
        "colab_type": "code",
        "colab": {}
      },
      "source": [
        "import os\n",
        "import csv\n",
        "# import gzip\n",
        "import collections\n",
        "import re\n",
        "import io\n",
        "import json\n",
        "import xml.etree.ElementTree as ET\n",
        "import numpy as np\n",
        "\n",
        "import requests\n",
        "import pandas as pd"
      ],
      "execution_count": 0,
      "outputs": []
    },
    {
      "cell_type": "code",
      "metadata": {
        "id": "iOMn4AzK-CKh",
        "colab_type": "code",
        "outputId": "bad9262e-4dbd-4212-b341-a0a3ccf92e3c",
        "colab": {
          "base_uri": "https://localhost:8080/",
          "height": 122
        }
      },
      "source": [
        "from google.colab import drive\n",
        "drive.mount('/content/drive')"
      ],
      "execution_count": 0,
      "outputs": [
        {
          "output_type": "stream",
          "text": [
            "Go to this URL in a browser: https://accounts.google.com/o/oauth2/auth?client_id=947318989803-6bn6qk8qdgf4n4g3pfee6491hc0brc4i.apps.googleusercontent.com&redirect_uri=urn%3Aietf%3Awg%3Aoauth%3A2.0%3Aoob&scope=email%20https%3A%2F%2Fwww.googleapis.com%2Fauth%2Fdocs.test%20https%3A%2F%2Fwww.googleapis.com%2Fauth%2Fdrive%20https%3A%2F%2Fwww.googleapis.com%2Fauth%2Fdrive.photos.readonly%20https%3A%2F%2Fwww.googleapis.com%2Fauth%2Fpeopleapi.readonly&response_type=code\n",
            "\n",
            "Enter your authorization code:\n",
            "··········\n",
            "Mounted at /content/drive\n"
          ],
          "name": "stdout"
        }
      ]
    },
    {
      "cell_type": "code",
      "metadata": {
        "id": "Yfmivx1M-QGK",
        "colab_type": "code",
        "outputId": "290351de-1c42-4b06-8aca-17ec20bb0236",
        "colab": {
          "base_uri": "https://localhost:8080/",
          "height": 34
        }
      },
      "source": [
        "% ls"
      ],
      "execution_count": 0,
      "outputs": [
        {
          "output_type": "stream",
          "text": [
            "full.xml  Untitled0.ipynb\n"
          ],
          "name": "stdout"
        }
      ]
    },
    {
      "cell_type": "code",
      "metadata": {
        "id": "gTwJh0jCHO2k",
        "colab_type": "code",
        "colab": {}
      },
      "source": [
        "# xml_path = os.path.join('download', 'drugbank.xml.gz')\n",
        "# with gzip.open(xml_path) as xml_file:\n",
        "xml_file = '/content/drive/My Drive/Genomics/full.xml'\n",
        "tree = ET.parse(xml_file)\n",
        "root = tree.getroot()"
      ],
      "execution_count": 0,
      "outputs": []
    },
    {
      "cell_type": "code",
      "metadata": {
        "id": "iA69SdmwhaOO",
        "colab_type": "code",
        "colab": {}
      },
      "source": [
        "ns = '{http://www.drugbank.ca}'\n",
        "for i,drug in enumerate(root):\n",
        "    row = collections.OrderedDict()\n",
        "    assert drug.tag == ns + 'drug'"
      ],
      "execution_count": 0,
      "outputs": []
    },
    {
      "cell_type": "code",
      "metadata": {
        "id": "T7CXzJd4iIqn",
        "colab_type": "code",
        "colab": {}
      },
      "source": [
        "ns = '{http://www.drugbank.ca}'\n",
        "exp_mw_template = \"{ns}experimental-properties/{ns}property[{ns}kind='Molecular Weight']/{ns}value\"\n",
        "exp_logp_template = \"{ns}experimental-properties/{ns}property[{ns}kind='logP']/{ns}value\"\n",
        "exp_pka_template = \"{ns}experimental-properties/{ns}property[{ns}kind='pKa']/{ns}value\"\n",
        "exp_mp_template = \"{ns}experimental-properties/{ns}property[{ns}kind='Melting Point']/{ns}value\"\n",
        "exp_bp_template = \"{ns}experimental-properties/{ns}property[{ns}kind='Boiling Point']/{ns}value\"\n",
        "exp_ws_template = \"{ns}experimental-properties/{ns}property[{ns}kind='Water Solubility']/{ns}value\"\n",
        "exp_logs_template = \"{ns}experimental-properties/{ns}property[{ns}kind='logS']/{ns}value\"\n",
        "exp_hydro_template = \"{ns}experimental-properties/{ns}property[{ns}kind='Hydrophobicity']/{ns}value\"\n",
        "exp_ip_template = \"{ns}experimental-properties/{ns}property[{ns}kind='Isoelectronic Point']/{ns}value\"\n",
        "exp_cp_template = \"{ns}experimental-properties/{ns}property[{ns}kind='caco2 Permeability']/{ns}value\"\n",
        "exp_rad_template = \"{ns}experimental-properties/{ns}property[{ns}kind='Radioactivity']/{ns}value\"\n",
        "cal_logp_template = \"{ns}calculated-properties/{ns}property[{ns}kind='logP']/{ns}value\"\n",
        "cal_logs_template = \"{ns}calculated-properties/{ns}property[{ns}kind='logS']/{ns}value\"\n",
        "cal_ws_template = \"{ns}calculated-properties/{ns}property[{ns}kind='Water Solubility']/{ns}value\"\n",
        "cal_mw_template = \"{ns}calculated-properties/{ns}property[{ns}kind='Molecular Weight']/{ns}value\"\n",
        "cal_psa_template = \"{ns}calculated-properties/{ns}property[{ns}kind='Polar Surface Area (PSA)']/{ns}value\"\n",
        "cal_refr_template = \"{ns}calculated-properties/{ns}property[{ns}kind='Refractivity']/{ns}value\"\n",
        "cal_pola_template = \"{ns}calculated-properties/{ns}property[{ns}kind='Polarizability']/{ns}value\"\n",
        "cal_rbc_template = \"{ns}calculated-properties/{ns}property[{ns}kind='Rotatable Bond Count']/{ns}value\"\n",
        "cal_hdac_template = \"{ns}calculated-properties/{ns}property[{ns}kind='H Bond Acceptor Count']/{ns}value\"\n",
        "cal_hbdc_template = \"{ns}calculated-properties/{ns}property[{ns}kind='H Bond Donor Count']/{ns}value\"\n",
        "cal_pkasa_template = \"{ns}calculated-properties/{ns}property[{ns}kind='pKa (strongest acidic)']/{ns}value\"\n",
        "cal_pkasb_template = \"{ns}calculated-properties/{ns}property[{ns}kind='pKa (strongest basic)']/{ns}value\"\n",
        "cal_pc_template = \"{ns}calculated-properties/{ns}property[{ns}kind='Physiological Charge']/{ns}value\"\n",
        "cal_nr_template = \"{ns}calculated-properties/{ns}property[{ns}kind='Number of Rings']/{ns}value\"\n",
        "cal_bioa_template = \"{ns}calculated-properties/{ns}property[{ns}kind='Bioavailability']/{ns}value\"\n",
        "cal_rof_template = \"{ns}calculated-properties/{ns}property[{ns}kind='Rule of Five']/{ns}value\""
      ],
      "execution_count": 0,
      "outputs": []
    },
    {
      "cell_type": "code",
      "metadata": {
        "id": "sZy_7oY9lP-u",
        "colab_type": "code",
        "colab": {}
      },
      "source": [
        "rows = list()\n",
        "\n",
        "for i, drug in enumerate(root):\n",
        "    row = collections.OrderedDict()\n",
        "    assert drug.tag == ns + 'drug'\n",
        "    # row['type'] = drug.get('type')\n",
        "    # row['drugbank_id'] = drug.findtext(ns + \"drugbank-id[@primary='true']\")\n",
        "    # row['name'] = drug.findtext(ns + \"name\")\n",
        "    row['cal_logp'] = drug.findtext(cal_logp_template.format(ns = ns))\n",
        "    row['cal_logs'] = drug.findtext(cal_logs_template.format(ns = ns))\n",
        "    row['cal_water_solubility'] = drug.findtext(cal_ws_template.format(ns = ns))\n",
        "    row['cal_molecular_weight'] = drug.findtext(cal_mw_template.format(ns = ns))\n",
        "    row['cal_polar_surface_area'] = drug.findtext(cal_psa_template.format(ns = ns))\n",
        "    row['cal_refractivity'] = drug.findtext(cal_refr_template.format(ns = ns))\n",
        "    row['cal_polarizability'] = drug.findtext(cal_pola_template.format(ns = ns))\n",
        "    row['cal_rotatable_bond_count'] = drug.findtext(cal_rbc_template.format(ns = ns))\n",
        "    row['cal_h_bond_acceptor_count'] = drug.findtext(cal_hdac_template.format(ns = ns))\n",
        "    row['cal_h_bond_donor_count'] = drug.findtext(cal_hbdc_template.format(ns = ns))\n",
        "    row['cal_pka_acidic'] = drug.findtext(cal_pkasa_template.format(ns = ns))\n",
        "    row['cal_pka_basic'] = drug.findtext(cal_pkasb_template.format(ns = ns))\n",
        "    row['cal_physiological_charge'] = drug.findtext(cal_pc_template.format(ns = ns))\n",
        "    row['cal_number_of_rings'] = drug.findtext(cal_nr_template.format(ns = ns))\n",
        "    row['cal_bioavailability'] = drug.findtext(cal_bioa_template.format(ns = ns))\n",
        "    row['cal_rule_of_five'] = drug.findtext(cal_rof_template.format(ns = ns))\n",
        "    # row['exp_molecular_weight'] = drug.findtext(exp_mw_template.format(ns = ns))\n",
        "    row['exp_logp'] = drug.findtext(exp_logp_template.format(ns = ns))\n",
        "    # row['exp_pka'] = drug.findtext(exp_pka_template.format(ns = ns))\n",
        "    # row['exp_mp'] = drug.findtext(exp_mp_template.format(ns = ns))\n",
        "    # row['exp_ws'] = drug.findtext(exp_ws_template.format(ns = ns))\n",
        "    # row['exp_hydro'] = drug.findtext(exp_hydro_template.format(ns = ns))\n",
        "\n",
        "    rows.append(row)"
      ],
      "execution_count": 0,
      "outputs": []
    },
    {
      "cell_type": "code",
      "metadata": {
        "id": "9auyZ2F0mhLm",
        "colab_type": "code",
        "colab": {}
      },
      "source": [
        "def collapse_list_values(row):\n",
        "    for key, value in row.items():\n",
        "        if isinstance(value, list):\n",
        "            row[key] = '|'.join(value)\n",
        "    return rowh\n",
        "\n",
        "rows = list(map(collapse_list_values, rows))\n",
        "drugbank_df = pd.DataFrame.from_dict(rows)\n",
        "drugbank_df.replace(r'^\\s*$', np.nan, regex=True)\n",
        "drugbank_df=drugbank_df.dropna()\n",
        "drugbank_df['cal_water_solubility']=drugbank_df['cal_water_solubility'].str.replace(\" g/l\",\"\")\n",
        "# drugbank_df['cal_water_solubility']=pd.to_numeric(drugbank_df.cal_water_solubility)\n",
        "# drugbank_df['cal_logp']=pd.to_numeric(drugbank_df.cal_logp)\n",
        "# drugbank_df['cal_logs']=pd.to_numeric(drugbank_df.cal_logs)\n",
        "# drugbank_df['cal_molecular_weight']=pd.to_numeric(drugbank_df.cal_molecular_weight)\n",
        "# drugbank_df['cal_polar_surface_area']=pd.to_numeric(drugbank_df.cal_polar_surface_area)\n",
        "# drugbank_df['cal_refractivity']=pd.to_numeric(drugbank_df.cal_refractivity)\n",
        "# drugbank_df['cal_polarizability']=pd.to_numeric(drugbank_df.cal_polarizability)\n",
        "# drugbank_df['cal_rotatable_bond_count']=pd.to_numeric(drugbank_df.cal_rotatable_bond_count)\n",
        "# drugbank_df['cal_rotatable_bond_count']=pd.to_numeric(drugbank_df.cal_rotatable_bond_count)\n",
        "drugbank_df = drugbank_df.astype(np.float64)"
      ],
      "execution_count": 0,
      "outputs": []
    },
    {
      "cell_type": "code",
      "metadata": {
        "id": "PvtHpZ9WmwsT",
        "colab_type": "code",
        "colab": {}
      },
      "source": [
        "drugbank_df.to_csv(path_or_buf='/content/drive/My Drive/Genomics/data.csv', sep='\\t',index=False)"
      ],
      "execution_count": 0,
      "outputs": []
    },
    {
      "cell_type": "code",
      "metadata": {
        "id": "4Xgg50yda93k",
        "colab_type": "code",
        "outputId": "cd01b5b3-0923-4892-a670-234930d8832c",
        "colab": {
          "base_uri": "https://localhost:8080/",
          "height": 323
        }
      },
      "source": [
        "drugbank_df.dtypes"
      ],
      "execution_count": 0,
      "outputs": [
        {
          "output_type": "execute_result",
          "data": {
            "text/plain": [
              "cal_logp                     float64\n",
              "cal_logs                     float64\n",
              "cal_water_solubility         float64\n",
              "cal_molecular_weight         float64\n",
              "cal_polar_surface_area       float64\n",
              "cal_refractivity             float64\n",
              "cal_polarizability           float64\n",
              "cal_rotatable_bond_count     float64\n",
              "cal_h_bond_acceptor_count    float64\n",
              "cal_h_bond_donor_count       float64\n",
              "cal_pka_acidic               float64\n",
              "cal_pka_basic                float64\n",
              "cal_physiological_charge     float64\n",
              "cal_number_of_rings          float64\n",
              "cal_bioavailability          float64\n",
              "cal_rule_of_five             float64\n",
              "exp_logp                     float64\n",
              "dtype: object"
            ]
          },
          "metadata": {
            "tags": []
          },
          "execution_count": 54
        }
      ]
    },
    {
      "cell_type": "code",
      "metadata": {
        "id": "nEdM8krrfeCt",
        "colab_type": "code",
        "colab": {}
      },
      "source": [
        "drugbank_df=drugbank_df.sample(frac=1)\n",
        "n_samples=len(drugbank_df)\n",
        "per=0.8\n",
        "op=drugbank_df['cal_bioavailability']\n",
        "ip=drugbank_df.drop(['cal_bioavailability'],axis=1)\n",
        "\n",
        "ip_train=ip[:int(per*n_samples)]\n",
        "op_train=op[:int(per*n_samples)]\n",
        "ip_test=ip[int(per*n_samples):]\n",
        "op_test=op[int(per*n_samples):]"
      ],
      "execution_count": 0,
      "outputs": []
    },
    {
      "cell_type": "code",
      "metadata": {
        "id": "Qz0609E7dtqF",
        "colab_type": "code",
        "outputId": "8ead7028-accd-46b8-98ef-cc218d5ed455",
        "colab": {
          "base_uri": "https://localhost:8080/",
          "height": 34
        }
      },
      "source": [
        "from sklearn.linear_model import LogisticRegression\n",
        "from sklearn import metrics\n",
        "lreg = LogisticRegression(random_state=0, solver='liblinear',max_iter=1000 )\n",
        "lreg.fit(ip_train,op_train)\n",
        "\n",
        "predicted=lreg.predict(ip_test)\n",
        "print('Explained varience score:%f'%metrics.explained_variance_score(op_test,predicted))\n",
        "\n"
      ],
      "execution_count": 0,
      "outputs": [
        {
          "output_type": "stream",
          "text": [
            "Explained varience score:0.773757\n"
          ],
          "name": "stdout"
        }
      ]
    },
    {
      "cell_type": "code",
      "metadata": {
        "id": "6rNhCFrDy6og",
        "colab_type": "code",
        "outputId": "1bb23edc-0a31-40f2-8203-1b572a49e0ad",
        "colab": {
          "base_uri": "https://localhost:8080/",
          "height": 34
        }
      },
      "source": [
        "from sklearn import linear_model\n",
        "from sklearn import metrics\n",
        "clf = linear_model.Lasso(alpha=0.7, copy_X=True, fit_intercept=True, max_iter=1000,\n",
        "   normalize=False, positive=False, precompute=False, random_state=7,\n",
        "   selection='cyclic', tol=0.01, warm_start=False)\n",
        "clf.fit(ip_train,op_train)\n",
        "\n",
        "predicted=clf.predict(ip_test)\n",
        "print('Explained varience score:%f'%metrics.explained_variance_score(op_test,predicted))\n",
        "\n"
      ],
      "execution_count": 0,
      "outputs": [
        {
          "output_type": "stream",
          "text": [
            "Explained varience score:0.424062\n"
          ],
          "name": "stdout"
        }
      ]
    },
    {
      "cell_type": "code",
      "metadata": {
        "id": "vFSQZKCAp3sH",
        "colab_type": "code",
        "outputId": "50ee66d0-c708-4ba0-8f9f-c5b77b891037",
        "colab": {
          "base_uri": "https://localhost:8080/",
          "height": 34
        }
      },
      "source": [
        "from sklearn.ensemble import RandomForestRegressor\n",
        "from sklearn import metrics\n",
        "rreg = RandomForestRegressor(bootstrap=False, criterion='mse', max_depth=8,\n",
        "           max_features='auto', max_leaf_nodes=None,\n",
        "           min_impurity_decrease=0.0, min_impurity_split=None,\n",
        "           min_samples_leaf=1, min_samples_split=2,\n",
        "           min_weight_fraction_leaf=0.0, n_estimators=100, n_jobs=None,\n",
        "           oob_score=False, random_state=0, verbose=0, warm_start=False)\n",
        "rreg.fit(ip_train,op_train)\n",
        "\n",
        "predicted=rreg.predict(ip_test)\n",
        "print('Explained varience score:%f'%metrics.explained_variance_score(op_test,predicted))\n",
        "\n"
      ],
      "execution_count": 0,
      "outputs": [
        {
          "output_type": "stream",
          "text": [
            "Explained varience score:0.900180\n"
          ],
          "name": "stdout"
        }
      ]
    },
    {
      "cell_type": "code",
      "metadata": {
        "id": "8an3I5VW1YdP",
        "colab_type": "code",
        "outputId": "83f26002-666d-4c77-fab7-b1d67bcfbc76",
        "colab": {
          "base_uri": "https://localhost:8080/",
          "height": 34
        }
      },
      "source": [
        " from sklearn.linear_model import ElasticNet\n",
        "from sklearn import metrics\n",
        "regr = ElasticNet(alpha=1.0, copy_X=True, fit_intercept=True, l1_ratio=0.9,\n",
        "      max_iter=1000, normalize=False, positive=False, precompute=True,\n",
        "      random_state=10, selection='random', tol=0.001, warm_start=True)\n",
        "regr.fit(ip_train,op_train)\n",
        "\n",
        "predicted=regr.predict(ip_test)\n",
        "print('Explained varience score:%f'%metrics.explained_variance_score(op_test,predicted))\n",
        "\n"
      ],
      "execution_count": 0,
      "outputs": [
        {
          "output_type": "stream",
          "text": [
            "Explained varience score:0.423602\n"
          ],
          "name": "stdout"
        }
      ]
    }
  ]
}